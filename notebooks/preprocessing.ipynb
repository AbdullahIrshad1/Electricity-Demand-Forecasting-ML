{
 "cells": [
  {
   "cell_type": "code",
   "execution_count": null,
   "id": "fc272a70",
   "metadata": {},
   "outputs": [],
   "source": [
    "pip install scikit-learn\n"
   ]
  },
  {
   "cell_type": "code",
   "execution_count": null,
   "id": "b1048aad",
   "metadata": {},
   "outputs": [],
   "source": [
    "pip install pandas \n"
   ]
  },
  {
   "cell_type": "code",
   "execution_count": null,
   "id": "44238b4a",
   "metadata": {},
   "outputs": [],
   "source": [
    "pip install pandas openpyxl\n"
   ]
  },
  {
   "cell_type": "code",
   "execution_count": 83,
   "id": "f18f9f51",
   "metadata": {},
   "outputs": [
    {
     "name": "stdout",
     "output_type": "stream",
     "text": [
      "Collecting seaborn\n",
      "  Downloading seaborn-0.13.2-py3-none-any.whl.metadata (5.4 kB)\n",
      "Requirement already satisfied: numpy!=1.24.0,>=1.20 in c:\\users\\sls\\appdata\\local\\programs\\python\\python313\\lib\\site-packages (from seaborn) (2.2.5)\n",
      "Requirement already satisfied: pandas>=1.2 in c:\\users\\sls\\appdata\\local\\programs\\python\\python313\\lib\\site-packages (from seaborn) (2.2.3)\n",
      "Requirement already satisfied: matplotlib!=3.6.1,>=3.4 in c:\\users\\sls\\appdata\\local\\programs\\python\\python313\\lib\\site-packages (from seaborn) (3.10.1)\n",
      "Requirement already satisfied: contourpy>=1.0.1 in c:\\users\\sls\\appdata\\local\\programs\\python\\python313\\lib\\site-packages (from matplotlib!=3.6.1,>=3.4->seaborn) (1.3.2)\n",
      "Requirement already satisfied: cycler>=0.10 in c:\\users\\sls\\appdata\\local\\programs\\python\\python313\\lib\\site-packages (from matplotlib!=3.6.1,>=3.4->seaborn) (0.12.1)\n",
      "Requirement already satisfied: fonttools>=4.22.0 in c:\\users\\sls\\appdata\\local\\programs\\python\\python313\\lib\\site-packages (from matplotlib!=3.6.1,>=3.4->seaborn) (4.57.0)\n",
      "Requirement already satisfied: kiwisolver>=1.3.1 in c:\\users\\sls\\appdata\\local\\programs\\python\\python313\\lib\\site-packages (from matplotlib!=3.6.1,>=3.4->seaborn) (1.4.8)\n",
      "Requirement already satisfied: packaging>=20.0 in c:\\users\\sls\\appdata\\roaming\\python\\python313\\site-packages (from matplotlib!=3.6.1,>=3.4->seaborn) (25.0)\n",
      "Requirement already satisfied: pillow>=8 in c:\\users\\sls\\appdata\\local\\programs\\python\\python313\\lib\\site-packages (from matplotlib!=3.6.1,>=3.4->seaborn) (11.2.1)\n",
      "Requirement already satisfied: pyparsing>=2.3.1 in c:\\users\\sls\\appdata\\local\\programs\\python\\python313\\lib\\site-packages (from matplotlib!=3.6.1,>=3.4->seaborn) (3.2.3)\n",
      "Requirement already satisfied: python-dateutil>=2.7 in c:\\users\\sls\\appdata\\roaming\\python\\python313\\site-packages (from matplotlib!=3.6.1,>=3.4->seaborn) (2.9.0.post0)\n",
      "Requirement already satisfied: pytz>=2020.1 in c:\\users\\sls\\appdata\\local\\programs\\python\\python313\\lib\\site-packages (from pandas>=1.2->seaborn) (2025.2)\n",
      "Requirement already satisfied: tzdata>=2022.7 in c:\\users\\sls\\appdata\\local\\programs\\python\\python313\\lib\\site-packages (from pandas>=1.2->seaborn) (2025.2)\n",
      "Requirement already satisfied: six>=1.5 in c:\\users\\sls\\appdata\\roaming\\python\\python313\\site-packages (from python-dateutil>=2.7->matplotlib!=3.6.1,>=3.4->seaborn) (1.17.0)\n",
      "Downloading seaborn-0.13.2-py3-none-any.whl (294 kB)\n",
      "Installing collected packages: seaborn\n",
      "Successfully installed seaborn-0.13.2\n",
      "Note: you may need to restart the kernel to use updated packages.\n"
     ]
    },
    {
     "name": "stderr",
     "output_type": "stream",
     "text": [
      "\n",
      "[notice] A new release of pip is available: 24.2 -> 25.1.1\n",
      "[notice] To update, run: python.exe -m pip install --upgrade pip\n"
     ]
    }
   ],
   "source": [
    "pip install seaborn\n"
   ]
  },
  {
   "cell_type": "code",
   "execution_count": 73,
   "id": "050ecb47",
   "metadata": {},
   "outputs": [
    {
     "name": "stdout",
     "output_type": "stream",
     "text": [
      "Collecting matplotlib\n",
      "  Downloading matplotlib-3.10.1-cp313-cp313-win_amd64.whl.metadata (11 kB)\n",
      "Collecting contourpy>=1.0.1 (from matplotlib)\n",
      "  Downloading contourpy-1.3.2-cp313-cp313-win_amd64.whl.metadata (5.5 kB)\n",
      "Collecting cycler>=0.10 (from matplotlib)\n",
      "  Downloading cycler-0.12.1-py3-none-any.whl.metadata (3.8 kB)\n",
      "Collecting fonttools>=4.22.0 (from matplotlib)\n",
      "  Downloading fonttools-4.57.0-cp313-cp313-win_amd64.whl.metadata (104 kB)\n",
      "Collecting kiwisolver>=1.3.1 (from matplotlib)\n",
      "  Downloading kiwisolver-1.4.8-cp313-cp313-win_amd64.whl.metadata (6.3 kB)\n",
      "Requirement already satisfied: numpy>=1.23 in c:\\users\\sls\\appdata\\local\\programs\\python\\python313\\lib\\site-packages (from matplotlib) (2.2.5)\n",
      "Requirement already satisfied: packaging>=20.0 in c:\\users\\sls\\appdata\\roaming\\python\\python313\\site-packages (from matplotlib) (25.0)\n",
      "Collecting pillow>=8 (from matplotlib)\n",
      "  Downloading pillow-11.2.1-cp313-cp313-win_amd64.whl.metadata (9.1 kB)\n",
      "Collecting pyparsing>=2.3.1 (from matplotlib)\n",
      "  Downloading pyparsing-3.2.3-py3-none-any.whl.metadata (5.0 kB)\n",
      "Requirement already satisfied: python-dateutil>=2.7 in c:\\users\\sls\\appdata\\roaming\\python\\python313\\site-packages (from matplotlib) (2.9.0.post0)\n",
      "Requirement already satisfied: six>=1.5 in c:\\users\\sls\\appdata\\roaming\\python\\python313\\site-packages (from python-dateutil>=2.7->matplotlib) (1.17.0)\n",
      "Downloading matplotlib-3.10.1-cp313-cp313-win_amd64.whl (8.1 MB)\n",
      "   ---------------------------------------- 0.0/8.1 MB ? eta -:--:--\n",
      "   -- ------------------------------------- 0.5/8.1 MB 3.3 MB/s eta 0:00:03\n",
      "   --- ------------------------------------ 0.8/8.1 MB 2.9 MB/s eta 0:00:03\n",
      "   ------ --------------------------------- 1.3/8.1 MB 2.1 MB/s eta 0:00:04\n",
      "   ---------- ----------------------------- 2.1/8.1 MB 2.4 MB/s eta 0:00:03\n",
      "   ------------- -------------------------- 2.6/8.1 MB 2.4 MB/s eta 0:00:03\n",
      "   --------------- ------------------------ 3.1/8.1 MB 2.4 MB/s eta 0:00:03\n",
      "   ------------------ --------------------- 3.7/8.1 MB 2.5 MB/s eta 0:00:02\n",
      "   -------------------- ------------------- 4.2/8.1 MB 2.5 MB/s eta 0:00:02\n",
      "   ------------------------ --------------- 5.0/8.1 MB 2.5 MB/s eta 0:00:02\n",
      "   --------------------------- ------------ 5.5/8.1 MB 2.5 MB/s eta 0:00:02\n",
      "   ------------------------------- -------- 6.3/8.1 MB 2.5 MB/s eta 0:00:01\n",
      "   -------------------------------- ------- 6.6/8.1 MB 2.5 MB/s eta 0:00:01\n",
      "   ----------------------------------- ---- 7.1/8.1 MB 2.4 MB/s eta 0:00:01\n",
      "   ------------------------------------- -- 7.6/8.1 MB 2.5 MB/s eta 0:00:01\n",
      "   ---------------------------------------  7.9/8.1 MB 2.5 MB/s eta 0:00:01\n",
      "   ---------------------------------------- 8.1/8.1 MB 2.4 MB/s eta 0:00:00\n",
      "Downloading contourpy-1.3.2-cp313-cp313-win_amd64.whl (223 kB)\n",
      "Downloading cycler-0.12.1-py3-none-any.whl (8.3 kB)\n",
      "Downloading fonttools-4.57.0-cp313-cp313-win_amd64.whl (2.2 MB)\n",
      "   ---------------------------------------- 0.0/2.2 MB ? eta -:--:--\n",
      "   --------- ------------------------------ 0.5/2.2 MB 2.7 MB/s eta 0:00:01\n",
      "   ------------------- -------------------- 1.0/2.2 MB 2.7 MB/s eta 0:00:01\n",
      "   ---------------------------- ----------- 1.6/2.2 MB 2.7 MB/s eta 0:00:01\n",
      "   ---------------------------------------- 2.2/2.2 MB 2.5 MB/s eta 0:00:00\n",
      "Downloading kiwisolver-1.4.8-cp313-cp313-win_amd64.whl (71 kB)\n",
      "Downloading pillow-11.2.1-cp313-cp313-win_amd64.whl (2.7 MB)\n",
      "   ---------------------------------------- 0.0/2.7 MB ? eta -:--:--\n",
      "   ------- -------------------------------- 0.5/2.7 MB 2.6 MB/s eta 0:00:01\n",
      "   --------------- ------------------------ 1.0/2.7 MB 2.6 MB/s eta 0:00:01\n",
      "   ----------------------- ---------------- 1.6/2.7 MB 2.6 MB/s eta 0:00:01\n",
      "   ------------------------------- -------- 2.1/2.7 MB 2.7 MB/s eta 0:00:01\n",
      "   ---------------------------------------- 2.7/2.7 MB 2.6 MB/s eta 0:00:00\n",
      "Downloading pyparsing-3.2.3-py3-none-any.whl (111 kB)\n",
      "Installing collected packages: pyparsing, pillow, kiwisolver, fonttools, cycler, contourpy, matplotlib\n",
      "Successfully installed contourpy-1.3.2 cycler-0.12.1 fonttools-4.57.0 kiwisolver-1.4.8 matplotlib-3.10.1 pillow-11.2.1 pyparsing-3.2.3\n",
      "Note: you may need to restart the kernel to use updated packages.\n"
     ]
    },
    {
     "name": "stderr",
     "output_type": "stream",
     "text": [
      "\n",
      "[notice] A new release of pip is available: 24.2 -> 25.1.1\n",
      "[notice] To update, run: python.exe -m pip install --upgrade pip\n"
     ]
    }
   ],
   "source": [
    "pip install matplotlib\n"
   ]
  },
  {
   "cell_type": "markdown",
   "id": "238ad97d",
   "metadata": {},
   "source": [
    "CELL 1 "
   ]
  },
  {
   "cell_type": "code",
   "execution_count": 61,
   "id": "9ad7b768",
   "metadata": {},
   "outputs": [
    {
     "name": "stdout",
     "output_type": "stream",
     "text": [
      "   Timestamp  Electricity_Demand_MWh Balancing Authority\n",
      "0 2018-07-01                   286.0                 TAL\n",
      "1 2018-07-01                  4237.0                PSCO\n",
      "2 2018-07-01                   912.0                 AVA\n",
      "3 2018-07-01                  2282.0                IPCO\n",
      "4 2018-07-01                 81462.0                MISO\n",
      "✅ Cleaned balance dataset saved to: C:/Users/SLS/Desktop/Electric/cleaned_balance_combined.csv\n"
     ]
    }
   ],
   "source": [
    "import pandas as pd\n",
    "import os\n",
    "\n",
    "# Folder where datasets are located\n",
    "data_dir = \"C:/Users/SLS/Desktop/Electric/data\"\n",
    "\n",
    "# List of EIA930 BALANCE demand files\n",
    "balance_files = [\n",
    "    \"EIA930_BALANCE_2018_Jul_Dec.csv\",\n",
    "    \"EIA930_BALANCE_2019_Jan_Jun.csv\",\n",
    "    \"EIA930_BALANCE_2019_Jul_Dec.csv\",\n",
    "    \"EIA930_BALANCE_2020_Jan_Jun.csv\"\n",
    "]\n",
    "\n",
    "# Columns we need from each BALANCE file\n",
    "columns_needed = [\n",
    "    \"Balancing Authority\",\n",
    "    \"Data Date\",\n",
    "    \"Hour Number\",\n",
    "    \"Demand (MW)\"\n",
    "]\n",
    "\n",
    "# Read and combine all balance files\n",
    "balance_data = []\n",
    "\n",
    "for file in balance_files:\n",
    "    path = os.path.join(data_dir, file)\n",
    "    df = pd.read_csv(path, usecols=columns_needed, dtype=str)  # Read all as strings to avoid dtype warnings\n",
    "    \n",
    "    # Drop rows with missing demand\n",
    "    df = df.dropna(subset=[\"Demand (MW)\", \"Data Date\", \"Hour Number\", \"Balancing Authority\"])\n",
    "    \n",
    "    # Clean numeric demand values: remove commas and convert to float\n",
    "    df[\"Electricity_Demand_MWh\"] = df[\"Demand (MW)\"].str.replace(\",\", \"\").astype(float)\n",
    "    \n",
    "    # Convert Data Date and Hour Number to Timestamp\n",
    "    df[\"Timestamp\"] = pd.to_datetime(df[\"Data Date\"]) + pd.to_timedelta(df[\"Hour Number\"].astype(int) - 1, unit='h')\n",
    "    \n",
    "    # Keep necessary columns\n",
    "    df = df[[\"Timestamp\", \"Electricity_Demand_MWh\", \"Balancing Authority\"]]\n",
    "    \n",
    "    balance_data.append(df)\n",
    "\n",
    "# Combine all into one dataframe\n",
    "final_balance_df = pd.concat(balance_data, ignore_index=True)\n",
    "\n",
    "# Optional: sort by timestamp\n",
    "final_balance_df = final_balance_df.sort_values(\"Timestamp\").reset_index(drop=True)\n",
    "\n",
    "# Preview the cleaned data\n",
    "print(final_balance_df.head())\n",
    "\n",
    "# Save cleaned dataset\n",
    "final_path = \"C:/Users/SLS/Desktop/Electric/cleaned_balance_combined.csv\"\n",
    "final_balance_df.to_csv(final_path, index=False)\n",
    "\n",
    "print(f\"✅ Cleaned balance dataset saved to: {final_path}\")\n"
   ]
  },
  {
   "cell_type": "markdown",
   "id": "171f2a80",
   "metadata": {},
   "source": [
    "CELL 2"
   ]
  },
  {
   "cell_type": "code",
   "execution_count": 70,
   "id": "13ce0d20",
   "metadata": {},
   "outputs": [
    {
     "name": "stdout",
     "output_type": "stream",
     "text": [
      "✅ Final weather dataset saved to: C:/Users/SLS/Desktop/Electric\\final_weather_demand_merged.csv\n"
     ]
    }
   ],
   "source": [
    "import pandas as pd\n",
    "import json\n",
    "import os\n",
    "from datetime import datetime\n",
    "\n",
    "# Define directories\n",
    "data_dir = \"C:/Users/SLS/Desktop/Electric\"\n",
    "city_dir = os.path.join(data_dir, \"data\")\n",
    "\n",
    "# Load cleaned electricity demand dataset\n",
    "demand_df = pd.read_csv(os.path.join(data_dir, \"cleaned_balance_combined.csv\"))\n",
    "demand_df['Timestamp'] = pd.to_datetime(demand_df['Timestamp'])\n",
    "\n",
    "# City list (same as used in mapping)\n",
    "cities = [\n",
    "    \"la\", \"nyc\", \"houston\", \"philadelphia\", \"phoenix\",\n",
    "    \"san_antonio\", \"san_diego\", \"san_jose\", \"seattle\", \"dallas\"\n",
    "]\n",
    "\n",
    "# List to collect city weather dataframes\n",
    "weather_dfs = []\n",
    "\n",
    "for city in cities:\n",
    "    json_file_path = os.path.join(city_dir, f\"{city}.json\")\n",
    "\n",
    "    # Read the raw file as a string and format it to valid JSON array\n",
    "    with open(json_file_path, \"r\") as f:\n",
    "        raw_data = f.read()\n",
    "\n",
    "    # Fix malformed JSON if necessary\n",
    "    if not raw_data.strip().startswith(\"[\"):\n",
    "        raw_data = \"[\" + raw_data.strip().rstrip(\",\") + \"]\"\n",
    "\n",
    "    # Parse JSON\n",
    "    try:\n",
    "        weather_data = json.loads(raw_data)\n",
    "    except json.JSONDecodeError as e:\n",
    "        raise ValueError(f\"Error decoding JSON in {city}.json: {e}\")\n",
    "\n",
    "    # Convert to DataFrame\n",
    "    df = pd.json_normalize(weather_data)\n",
    "\n",
    "    # Convert UNIX time to Timestamp\n",
    "    df['Timestamp'] = pd.to_datetime(df['time'], unit='s')\n",
    "\n",
    "    # ⚠️ Fix: Add city column in lowercase with spaces (match demand_df format)\n",
    "    df['City'] = city.replace(\"_\", \" \").lower()\n",
    "\n",
    "    # Select relevant columns\n",
    "    selected_columns = ['Timestamp', 'City', 'temperature', 'humidity', 'windSpeed']\n",
    "    optional_columns = ['pressure', 'precipIntensity', 'precipProbability']\n",
    "\n",
    "    for col in optional_columns:\n",
    "        if col in df.columns:\n",
    "            selected_columns.append(col)\n",
    "\n",
    "    weather_dfs.append(df[selected_columns])\n",
    "\n",
    "# Combine all weather DataFrames\n",
    "weather_df = pd.concat(weather_dfs, ignore_index=True)\n",
    "\n",
    "# Save the merged weather dataset\n",
    "output_path = os.path.join(data_dir, \"final_weather_demand_merged.csv\")\n",
    "weather_df.to_csv(output_path, index=False)\n",
    "\n",
    "print(\"✅ Final weather dataset saved to:\", output_path)\n"
   ]
  },
  {
   "cell_type": "code",
   "execution_count": 76,
   "id": "4ca87b08",
   "metadata": {},
   "outputs": [
    {
     "name": "stdout",
     "output_type": "stream",
     "text": [
      "Unique Balancing Authorities:\n",
      "['TAL' 'PSCO' 'AVA' 'IPCO' 'MISO' 'IID' 'PNM' 'AZPS' 'CPLE' 'TIDC' 'FMPP'\n",
      " 'PGE' 'NEVP' 'FPL' 'NYIS' 'JEA' 'BPAT' 'GVL' 'DUK' 'SPA' 'CHPD' 'SEC'\n",
      " 'SOCO' 'EPE' 'GCPD' 'TEC' 'PACE' 'SC' 'PSEI' 'PACW' 'CPLW' 'NWMT' 'DOPD'\n",
      " 'HST' 'CISO' 'PJM' 'FPC' 'WACM' 'WALC' 'ISNE' 'LGEE' 'SCEG' 'TPWR' 'SCL'\n",
      " 'OVEC' 'AECI' 'WAUW' 'AEC' 'ERCO' 'LDWP' 'BANC' 'TEPC' 'TVA' 'NSB' 'SRP'\n",
      " 'SWPP']\n",
      "\n",
      "Row count per Balancing Authority:\n",
      "Balancing Authority\n",
      "TAL     15936\n",
      "PSCO    15936\n",
      "AZPS    15936\n",
      "SPA     15936\n",
      "BPAT    15936\n",
      "ISNE    15936\n",
      "PSEI    15936\n",
      "GCPD    15936\n",
      "EPE     15933\n",
      "AECI    15931\n",
      "FPL     15930\n",
      "MISO    15929\n",
      "NEVP    15918\n",
      "DUK     15913\n",
      "FPC     15913\n",
      "NYIS    15912\n",
      "PJM     15912\n",
      "TEC     15912\n",
      "WALC    15912\n",
      "AVA     15912\n",
      "SCEG    15912\n",
      "WAUW    15910\n",
      "SCL     15908\n",
      "PACW    15888\n",
      "PACE    15864\n",
      "ERCO    15864\n",
      "TIDC    15864\n",
      "NWMT    15863\n",
      "IPCO    15861\n",
      "HST     15858\n",
      "CISO    15854\n",
      "CHPD    15846\n",
      "CPLE    15841\n",
      "CPLW    15841\n",
      "WACM    15840\n",
      "FMPP    15817\n",
      "LGEE    15792\n",
      "TPWR    15792\n",
      "IID     15790\n",
      "SOCO    15790\n",
      "PNM     15768\n",
      "AEC     15722\n",
      "SC      15674\n",
      "DOPD    15624\n",
      "BANC    15620\n",
      "LDWP    15607\n",
      "PGE     15576\n",
      "TEPC    15552\n",
      "JEA     15528\n",
      "TVA     15455\n",
      "SRP     15264\n",
      "GVL     14859\n",
      "SEC     14784\n",
      "SWPP    14448\n",
      "NSB     11207\n",
      "OVEC     3673\n",
      "Name: count, dtype: int64\n"
     ]
    }
   ],
   "source": [
    "import pandas as pd\n",
    "\n",
    "demand_df = pd.read_csv(\"C:/Users/SLS/Desktop/Electric/cleaned_balance_combined.csv\")\n",
    "\n",
    "# Check unique Balancing Authorities\n",
    "print(\"Unique Balancing Authorities:\")\n",
    "print(demand_df['Balancing Authority'].dropna().unique())\n",
    "\n",
    "# Count rows per Balancing Authority\n",
    "print(\"\\nRow count per Balancing Authority:\")\n",
    "print(demand_df['Balancing Authority'].value_counts())\n"
   ]
  },
  {
   "cell_type": "markdown",
   "id": "25eadb8b",
   "metadata": {},
   "source": [
    "CELL 3"
   ]
  },
  {
   "cell_type": "code",
   "execution_count": null,
   "id": "5490f09f",
   "metadata": {},
   "outputs": [
    {
     "name": "stdout",
     "output_type": "stream",
     "text": [
      "Cities in demand data: ['nyc' 'seattle' 'la' 'philadelphia' 'phoenix' 'dallas']\n",
      "Cities in weather data: ['la' 'nyc' 'philadelphia' 'phoenix' 'seattle' 'dallas']\n",
      "Rows per city after merge:\n",
      " City\n",
      "seattle         15919\n",
      "nyc             15874\n",
      "philadelphia    15874\n",
      "la              15837\n",
      "phoenix         15260\n",
      "dallas          14445\n",
      "Name: count, dtype: int64\n",
      "✅ Final fully merged dataset saved to: C:/Users/SLS/Desktop/Electric/final_merged_weather_demand_dataset.csv\n"
     ]
    }
   ],
   "source": [
    "import pandas as pd\n",
    "\n",
    "# Load both final datasets\n",
    "demand_path = \"C:/Users/SLS/Desktop/Electric/cleaned_balance_combined.csv\"\n",
    "weather_path = \"C:/Users/SLS/Desktop/Electric/final_weather_demand_merged.csv\"\n",
    "\n",
    "# Convert and align timestamps to the hour\n",
    "demand_df['Timestamp'] = pd.to_datetime(demand_df['Timestamp']).dt.floor('h')\n",
    "weather_df['Timestamp'] = pd.to_datetime(weather_df['Timestamp']).dt.floor('h')\n",
    "\n",
    "# Map Balancing Authorities to cities\n",
    "ba_city_map = {\n",
    "    \"CISO\": \"la\",             # California ISO\n",
    "    \"NYIS\": \"nyc\",            # New York ISO\n",
    "    \"ERCOT\": \"houston\",       # Texas ERCOT (example)\n",
    "    \"PJM\": \"philadelphia\",    # PJM Interconnection\n",
    "    \"ISNE\": \"boston\",         # ISO New England\n",
    "    \"SWPP\": \"dallas\",         # Southwest Power Pool\n",
    "    \"SOCO\": \"atlanta\",        # Southern Company\n",
    "    \"TVA\": \"nashville\",       # Tennessee Valley Authority\n",
    "    \"MISO\": \"chicago\",        # Midcontinent ISO\n",
    "    \"BANC\": \"sacramento\",     # Balancing Authority of Northern California\n",
    "    \"SRP\": \"phoenix\",         # Salt River Project\n",
    "    \"LDWP\": \"los angeles\",    # LA Department of Water and Power\n",
    "    \"TEPC\": \"tucson\",         # Tucson Electric Power\n",
    "    \"PSCO\": \"denver\",         # Public Service Company of Colorado\n",
    "    \"PNM\": \"albuquerque\",     # Public Service Co. of New Mexico\n",
    "    \"PACE\": \"salt lake city\", # PacifiCorp East\n",
    "    \"PACW\": \"portland\",       # PacifiCorp West\n",
    "    \"PSEI\": \"seattle\",        # Puget Sound Energy\n",
    "    \"FPL\": \"miami\",           # Florida Power & Light\n",
    "    # Add more mappings if needed\n",
    "}\n",
    "\n",
    "# Apply city mapping to demand data\n",
    "demand_df['City'] = demand_df['Balancing Authority'].map(ba_city_map)\n",
    "\n",
    "# Drop rows with missing city mapping (unmapped balancing authorities)\n",
    "demand_df = demand_df.dropna(subset=['City'])\n",
    "\n",
    "# Ensure only cities present in both datasets are used\n",
    "common_cities = set(demand_df['City']).intersection(set(weather_df['City']))\n",
    "demand_df = demand_df[demand_df['City'].isin(common_cities)]\n",
    "weather_df = weather_df[weather_df['City'].isin(common_cities)]\n",
    "\n",
    "# Merge demand and weather data on Timestamp and City\n",
    "merged_df = pd.merge(demand_df, weather_df, on=['Timestamp', 'City'], how='inner')\n",
    "\n",
    "# Optional: Print row counts to verify\n",
    "print(\"Cities in demand data:\", demand_df['City'].unique())\n",
    "print(\"Cities in weather data:\", weather_df['City'].unique())\n",
    "print(\"Rows per city after merge:\\n\", merged_df['City'].value_counts())\n",
    "\n",
    "# Save the merged dataset\n",
    "output_path = \"C:/Users/SLS/Desktop/Electric/final_merged_weather_demand_dataset.csv\"\n",
    "merged_df.to_csv(output_path, index=False)\n",
    "print(f\"✅ Final fully merged dataset saved to: {output_path}\")\n"
   ]
  },
  {
   "cell_type": "code",
   "execution_count": 79,
   "id": "99be7623",
   "metadata": {},
   "outputs": [
    {
     "name": "stdout",
     "output_type": "stream",
     "text": [
      "✅ Number of records per city:\n",
      "\n",
      "City\n",
      "seattle         15919\n",
      "nyc             15874\n",
      "philadelphia    15874\n",
      "la              15837\n",
      "phoenix         15260\n",
      "dallas          14445\n",
      "Name: count, dtype: int64\n"
     ]
    },
    {
     "data": {
      "image/png": "[encoded data removed]",
      "text/plain": [
       "<Figure size 1000x600 with 1 Axes>"
      ]
     },
     "metadata": {},
     "output_type": "display_data"
    }
   ],
   "source": [
    "import pandas as pd\n",
    "\n",
    "# Load the final merged dataset\n",
    "final_df = pd.read_csv(\"C:/Users/SLS/Desktop/Electric/final_merged_weather_demand_dataset.csv\")\n",
    "\n",
    "# Convert Timestamp to datetime (optional if needed)\n",
    "final_df['Timestamp'] = pd.to_datetime(final_df['Timestamp'])\n",
    "\n",
    "# Show number of records per city\n",
    "city_counts = final_df['City'].value_counts()\n",
    "print(\"✅ Number of records per city:\\n\")\n",
    "print(city_counts)\n",
    "\n",
    "# Optional: Plot record count per city\n",
    "import matplotlib.pyplot as plt\n",
    "\n",
    "city_counts.plot(kind='bar', figsize=(10, 6), color='skyblue', edgecolor='black')\n",
    "plt.title('Number of Records per City in Final Merged Dataset')\n",
    "plt.xlabel('City')\n",
    "plt.ylabel('Record Count')\n",
    "plt.xticks(rotation=45)\n",
    "plt.tight_layout()\n",
    "plt.grid(axis='y', linestyle='--', alpha=0.7)\n",
    "plt.show()\n"
   ]
  },
  {
   "cell_type": "markdown",
   "id": "097e2bfe",
   "metadata": {},
   "source": [
    "AGGREGATION"
   ]
  }
 ],
 "metadata": {
  "kernelspec": {
   "display_name": "Python 3",
   "language": "python",
   "name": "python3"
  },
  "language_info": {
   "codemirror_mode": {
    "name": "ipython",
    "version": 3
   },
   "file_extension": ".py",
   "mimetype": "text/x-python",
   "name": "python",
   "nbconvert_exporter": "python",
   "pygments_lexer": "ipython3",
   "version": "3.13.0"
  }
 },
 "nbformat": 4,
 "nbformat_minor": 5
}
